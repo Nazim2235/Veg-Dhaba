{
 "cells": [
  {
   "cell_type": "code",
   "execution_count": null,
   "id": "c9a5b927-908f-4a66-b473-614cd3547f29",
   "metadata": {},
   "outputs": [],
   "source": [
    "               # PYTHON PROJECT"
   ]
  },
  {
   "cell_type": "code",
   "execution_count": 4,
   "id": "4637aa01-b2be-4cba-aa33-aaa925bcc70d",
   "metadata": {
    "scrolled": true
   },
   "outputs": [
    {
     "name": "stdout",
     "output_type": "stream",
     "text": [
      "Welcome to PYTHON Restaurant\n",
      "pizza: Rs40\n",
      "pasta: Rs50\n",
      "burger: Rs60\n",
      "salad: Rs70\n",
      "coffee: Rs80\n"
     ]
    },
    {
     "name": "stdin",
     "output_type": "stream",
     "text": [
      "Enter the name of item you want to order =  coffee\n"
     ]
    },
    {
     "name": "stdout",
     "output_type": "stream",
     "text": [
      "your item coffee has has been added to your order\n"
     ]
    },
    {
     "name": "stdin",
     "output_type": "stream",
     "text": [
      "Do you want to another item? (yes/no)  yes\n",
      "Enter the name of second item =  salad\n"
     ]
    },
    {
     "name": "stdout",
     "output_type": "stream",
     "text": [
      "item salad has been added to order\n",
      "the total amount of item to pay is 150\n"
     ]
    }
   ],
   "source": [
    " # define the MENU of restaurant\n",
    "menu = {\n",
    "    'pizza':40,\n",
    "    'pasta':50,\n",
    "    'burger':60,\n",
    "    'salad':70,\n",
    "    'coffee':80,\n",
    "}\n",
    "# Greet\n",
    "print(\"Welcome to PYTHON Restaurant\")\n",
    "print(\"pizza: Rs40\\npasta: Rs50\\nburger: Rs60\\nsalad: Rs70\\ncoffee: Rs80\")\n",
    "\n",
    "order_total = 0\n",
    "\n",
    "item_1 = input(\"Enter the name of item you want to order = \")\n",
    "if item_1 in menu:\n",
    "    order_total += menu[item_1]\n",
    "    print(f\"your item {item_1} has has been added to your order\")\n",
    "\n",
    "else:\n",
    "    print(\"orderd item {item_1} is not available yet!\")\n",
    "\n",
    "another_order = input(\"Do you want to another item? (yes/no) \")\n",
    "if another_order == \"yes\":\n",
    "    item_2 = input(\"Enter the name of second item = \")\n",
    "    if item_2 in menu:\n",
    "        order_total += menu[item_2]\n",
    "        print(f\"item {item_2} has been added to order\")\n",
    "    else:\n",
    "        print(f\"ordered item {item_2} is not available!\")\n",
    "\n",
    "print(f\"the total amount of item to pay is {order_total}\")\n"
   ]
  },
  {
   "cell_type": "code",
   "execution_count": null,
   "id": "bd24006b-6408-4019-8b27-79c325096b46",
   "metadata": {},
   "outputs": [],
   "source": []
  }
 ],
 "metadata": {
  "kernelspec": {
   "display_name": "Python 3 (ipykernel)",
   "language": "python",
   "name": "python3"
  },
  "language_info": {
   "codemirror_mode": {
    "name": "ipython",
    "version": 3
   },
   "file_extension": ".py",
   "mimetype": "text/x-python",
   "name": "python",
   "nbconvert_exporter": "python",
   "pygments_lexer": "ipython3",
   "version": "3.12.4"
  }
 },
 "nbformat": 4,
 "nbformat_minor": 5
}
